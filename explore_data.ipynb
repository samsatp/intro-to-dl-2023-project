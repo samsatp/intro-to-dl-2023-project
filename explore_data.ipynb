{
 "cells": [
  {
   "cell_type": "code",
   "execution_count": 1,
   "metadata": {},
   "outputs": [],
   "source": [
    "from utils import *\n",
    "from data import *\n",
    "import glob, os\n",
    "\n",
    "files = glob.glob(os.path.join(\"data\",\"sample\",\"*\"))\n",
    "\n",
    "headlines, texts, labels = parse_xml(files=files)\n",
    "\n",
    "X = [(a+\" \"+b).lower() for a,b in zip(headlines, texts)]"
   ]
  },
  {
   "cell_type": "code",
   "execution_count": 2,
   "metadata": {},
   "outputs": [],
   "source": [
    "class TrivialTokenizer(Tokenizer):\n",
    "    def __call__(self, text: str) -> List[list]:\n",
    "        return text.split()"
   ]
  },
  {
   "cell_type": "code",
   "execution_count": 3,
   "metadata": {},
   "outputs": [],
   "source": [
    "tokenizer = TrivialTokenizer()\n",
    "train_dataset = MultiLabelDataset(X, labels, tokenizer)"
   ]
  },
  {
   "cell_type": "code",
   "execution_count": 4,
   "metadata": {},
   "outputs": [
    {
     "data": {
      "text/plain": [
       "(tensor([ 1,  1,  1,  1,  1,  1,  1,  1,  1,  1,  1,  1,  1, 10,  1,  1,  1,  1,\n",
       "          1,  1,  1,  1,  1,  1, 25,  1,  1,  1,  1,  1,  1,  1,  1,  1, 28, 33,\n",
       "         30, 29, 30, 26, 31,  1,  1, 15, 10,  1, 28,  1,  1,  1, 30, 29, 30, 31]),\n",
       " tensor([ 1,  7, 23], dtype=torch.int16))"
      ]
     },
     "execution_count": 4,
     "metadata": {},
     "output_type": "execute_result"
    }
   ],
   "source": [
    "train_dataset[0]"
   ]
  }
 ],
 "metadata": {
  "kernelspec": {
   "display_name": "venv",
   "language": "python",
   "name": "python3"
  },
  "language_info": {
   "codemirror_mode": {
    "name": "ipython",
    "version": 3
   },
   "file_extension": ".py",
   "mimetype": "text/x-python",
   "name": "python",
   "nbconvert_exporter": "python",
   "pygments_lexer": "ipython3",
   "version": "3.10.7"
  },
  "orig_nbformat": 4
 },
 "nbformat": 4,
 "nbformat_minor": 2
}
