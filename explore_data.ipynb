{
 "cells": [
  {
   "cell_type": "code",
   "execution_count": 5,
   "metadata": {},
   "outputs": [],
   "source": [
    "from utils import *\n",
    "from data import *\n",
    "import glob, os\n",
    "\n",
    "files = glob.glob(os.path.join(\"data\",\"sample\",\"*\"))\n",
    "\n",
    "headlines, texts, labels = parse_xml(files=files)\n",
    "\n",
    "X = [(a+\" \"+b).lower() for a,b in zip(headlines, texts)]"
   ]
  },
  {
   "cell_type": "code",
   "execution_count": 6,
   "metadata": {},
   "outputs": [],
   "source": [
    "class TrivialTokenizer(Tokenizer):\n",
    "    def __call__(self, text: str) -> List[list]:\n",
    "        return text.split()"
   ]
  },
  {
   "cell_type": "code",
   "execution_count": 7,
   "metadata": {},
   "outputs": [],
   "source": [
    "tokenizer = TrivialTokenizer()\n",
    "train_dataset = MultiLabelDataset(X, labels, tokenizer)"
   ]
  },
  {
   "cell_type": "code",
   "execution_count": 8,
   "metadata": {},
   "outputs": [
    {
     "data": {
      "text/plain": [
       "(\"tennis-hilton head island women's results. results from 926 250 family circle cup women s tennis tournament on saturday prefix number denotes seeding  quarter finals 1 martina hingis switzerland beat 14 brenda schultz mccarthy netherlands 5 7 6 3 6 2 4 monica seles u s beat 5 conchita martinez spain 6 3 6 4\",\n",
       " ['USA', 'GCAT', 'GSPO'])"
      ]
     },
     "execution_count": 8,
     "metadata": {},
     "output_type": "execute_result"
    }
   ],
   "source": [
    "X[0], labels[0]"
   ]
  },
  {
   "cell_type": "code",
   "execution_count": 9,
   "metadata": {},
   "outputs": [
    {
     "data": {
      "text/plain": [
       "(tensor([ 1,  1,  1,  1,  1,  1,  1,  1,  1,  1,  1,  1,  1, 10,  1,  1,  1,  1,\n",
       "          1,  1,  1,  1,  1,  1, 25,  1,  1,  1,  1,  1,  1,  1,  1,  1, 28, 33,\n",
       "         30, 29, 30, 26, 31,  1,  1, 15, 10,  1, 28,  1,  1,  1, 30, 29, 30, 31]),\n",
       " tensor([ 1,  7, 23], dtype=torch.int16))"
      ]
     },
     "execution_count": 9,
     "metadata": {},
     "output_type": "execute_result"
    }
   ],
   "source": [
    "train_dataset[0]"
   ]
  }
 ],
 "metadata": {
  "kernelspec": {
   "display_name": "venv",
   "language": "python",
   "name": "python3"
  },
  "language_info": {
   "codemirror_mode": {
    "name": "ipython",
    "version": 3
   },
   "file_extension": ".py",
   "mimetype": "text/x-python",
   "name": "python",
   "nbconvert_exporter": "python",
   "pygments_lexer": "ipython3",
   "version": "3.10.7"
  },
  "orig_nbformat": 4
 },
 "nbformat": 4,
 "nbformat_minor": 2
}
