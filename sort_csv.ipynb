{
 "cells": [
  {
   "cell_type": "code",
   "execution_count": 11,
   "metadata": {},
   "outputs": [],
   "source": [
    "# Script to sort the columns and rows alphabetically.\n",
    "import pandas as pd\n",
    "\n",
    "df = pd.read_csv(\"predictions.tsv\", sep = \"\\t\", index_col=0)\n",
    "\n",
    "df = df.sort_index(axis=1)\n",
    "df = df.sort_index(axis=0)\n",
    "\n",
    "df.to_csv(\"predictions.tsv\", sep = \"\\t\")"
   ]
  }
 ],
 "metadata": {
  "kernelspec": {
   "display_name": "base",
   "language": "python",
   "name": "python3"
  },
  "language_info": {
   "codemirror_mode": {
    "name": "ipython",
    "version": 3
   },
   "file_extension": ".py",
   "mimetype": "text/x-python",
   "name": "python",
   "nbconvert_exporter": "python",
   "pygments_lexer": "ipython3",
   "version": "3.9.12"
  },
  "orig_nbformat": 4
 },
 "nbformat": 4,
 "nbformat_minor": 2
}
