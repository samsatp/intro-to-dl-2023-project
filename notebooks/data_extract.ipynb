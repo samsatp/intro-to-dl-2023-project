{
 "cells": [
  {
   "cell_type": "code",
   "execution_count": 1,
   "metadata": {},
   "outputs": [],
   "source": [
    "from bs4 import BeautifulSoup\n",
    "import glob, os, lxml\n",
    "\n",
    "data_path = os.path.join(\"data\",\"sample\",\"*\")\n",
    "files = glob.glob(data_path)"
   ]
  },
  {
   "cell_type": "code",
   "execution_count": 30,
   "metadata": {},
   "outputs": [],
   "source": [
    "import re\n",
    "def preprocess(x: str):\n",
    "    x = x.strip()\n",
    "\n",
    "    # Non-alphabet normalization\n",
    "    x = re.sub(r\"\\\\[tn]|\\W\", \" \", x)\n",
    "\n",
    "    # Whitespace normalization\n",
    "    x = re.sub(r\"\\s+\", \" \", x)\n",
    "\n",
    "    return x"
   ]
  },
  {
   "cell_type": "code",
   "execution_count": 31,
   "metadata": {},
   "outputs": [],
   "source": [
    "headlines = []\n",
    "texts = []\n",
    "labels = []\n",
    "\n",
    "\n",
    "for f in files:\n",
    "    with open(f, \"r\") as s:\n",
    "        xml = s.read()\n",
    "    soup = BeautifulSoup(xml, features=\"xml\")\n",
    "\n",
    "    headlines.append(soup.headline.text)\n",
    "\n",
    "    text = ' '.join([\n",
    "        preprocess(t) \n",
    "        for t in soup.find('text').text.split('\\n')\n",
    "    ]).strip()\n",
    "    texts.append(text)\n",
    "\n",
    "    codes = soup.find_all(\"code\")\n",
    "    label = [code.attrs.get(\"code\") for code in codes]\n",
    "    labels.append(label)"
   ]
  },
  {
   "cell_type": "code",
   "execution_count": 32,
   "metadata": {},
   "outputs": [
    {
     "data": {
      "text/plain": [
       "'Corrects the headline to make it correspond to the story  The Netherlands stayed alive in their Davis Cup quarter final tie with the United States by winning the doubles Saturday to trail the Americans 2 1  Doubles Paul Haarhuis Jacco Eltingh Netherlands beat Rick Leach Jonathan Stark U S 6 4 6 4 3 6 6 3'"
      ]
     },
     "execution_count": 32,
     "metadata": {},
     "output_type": "execute_result"
    }
   ],
   "source": [
    "texts[2]"
   ]
  },
  {
   "cell_type": "code",
   "execution_count": 33,
   "metadata": {},
   "outputs": [
    {
     "data": {
      "text/plain": [
       "['NETH', 'USA', 'GCAT', 'GSPO']"
      ]
     },
     "execution_count": 33,
     "metadata": {},
     "output_type": "execute_result"
    }
   ],
   "source": [
    "labels[2]"
   ]
  }
 ],
 "metadata": {
  "kernelspec": {
   "display_name": "venv",
   "language": "python",
   "name": "python3"
  },
  "language_info": {
   "codemirror_mode": {
    "name": "ipython",
    "version": 3
   },
   "file_extension": ".py",
   "mimetype": "text/x-python",
   "name": "python",
   "nbconvert_exporter": "python",
   "pygments_lexer": "ipython3",
   "version": "3.10.7"
  },
  "orig_nbformat": 4
 },
 "nbformat": 4,
 "nbformat_minor": 2
}
